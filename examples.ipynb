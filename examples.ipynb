{
 "cells": [
  {
   "cell_type": "markdown",
   "metadata": {},
   "source": [
    "# QueryChatBot Example\n",
    "\n",
    "This notebook provides example usage for the QueryChatBot class. See README.md for a general overview."
   ]
  },
  {
   "cell_type": "code",
   "execution_count": 1,
   "metadata": {},
   "outputs": [],
   "source": [
    "%load_ext dotenv\n",
    "%dotenv"
   ]
  },
  {
   "cell_type": "code",
   "execution_count": 3,
   "metadata": {},
   "outputs": [
    {
     "data": {
      "text/plain": [
       "[   total_sales\n",
       " 0   677.000003,\n",
       "    total_sales\n",
       " 0        329.0,\n",
       " 'out of scope']"
      ]
     },
     "execution_count": 3,
     "metadata": {},
     "output_type": "execute_result"
    }
   ],
   "source": [
    "from querychatbot.querychatbot import QueryChatBot\n",
    "import sqlalchemy as sqla\n",
    "import json\n",
    "\n",
    "\n",
    "def get_column_descriptions(path=\"sample_data/column_descriptions.json\"):\n",
    "    with open(path) as jsonfile:\n",
    "        return json.load(jsonfile)\n",
    "\n",
    "\n",
    "engine = sqla.create_engine(\"sqlite:///sales.db\", echo=False)\n",
    "\n",
    "test_case = {\n",
    "    \"engine\": engine,\n",
    "    \"table_schema\": get_column_descriptions(),\n",
    "    \"questions\": [\n",
    "        \"What were the total sales in CA in 2014?\",\n",
    "        \"What were the total sales in TX in 2014?\",\n",
    "        \"Describe the color black\",  # expect out of scope\n",
    "    ],\n",
    "}\n",
    "\n",
    "QueryChatBot(engine=test_case['engine'], table_schema=test_case[\"table_schema\"], questions=test_case[\"questions\"])"
   ]
  },
  {
   "cell_type": "code",
   "execution_count": null,
   "metadata": {},
   "outputs": [],
   "source": []
  }
 ],
 "metadata": {
  "kernelspec": {
   "display_name": "base",
   "language": "python",
   "name": "python3"
  },
  "language_info": {
   "codemirror_mode": {
    "name": "ipython",
    "version": 3
   },
   "file_extension": ".py",
   "mimetype": "text/x-python",
   "name": "python",
   "nbconvert_exporter": "python",
   "pygments_lexer": "ipython3",
   "version": "3.9.7"
  },
  "orig_nbformat": 4
 },
 "nbformat": 4,
 "nbformat_minor": 2
}
