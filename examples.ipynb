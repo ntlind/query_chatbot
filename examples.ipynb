{
 "cells": [
  {
   "cell_type": "markdown",
   "metadata": {},
   "source": [
    "# TextChatBot Examples\n",
    "\n",
    "This notebook provides example usage for the TextChatBot class. See README.md for a general overview."
   ]
  },
  {
   "cell_type": "markdown",
   "metadata": {},
   "source": [
    "## Example #1: San Francisco"
   ]
  },
  {
   "cell_type": "code",
   "execution_count": 1,
   "metadata": {},
   "outputs": [],
   "source": [
    "%load_ext dotenv\n",
    "%dotenv"
   ]
  },
  {
   "cell_type": "code",
   "execution_count": 2,
   "metadata": {},
   "outputs": [
    {
     "data": {
      "text/plain": [
       "['As of 2020, the metropolitan area of San Francisco had 6.7 million residents.',\n",
       " 'San Francisco had a greater GDP in 2020 compared to Paris.',\n",
       " 'out of scope',\n",
       " 'out of scope',\n",
       " 'out of scope']"
      ]
     },
     "execution_count": 2,
     "metadata": {},
     "output_type": "execute_result"
    }
   ],
   "source": [
    "from textchatbot.textchatbot import TextChatBot\n",
    "\n",
    "test_case = {\n",
    "    \"input_text\": \"San Francisco and the surrounding San Francisco Bay Area are a global center of economic activity and the arts and sciences,[34][35] spurred by leading universities,[36] high-tech, healthcare, finance, insurance, real estate, and professional services sectors.[37] As of 2020, the metropolitan area, with 6.7 million residents, ranked 5th by GDP ($874 billion) and 2nd by GDP per capita ($131,082) across the OECD countries, ahead of global cities like Paris, London, and Singapore.[38][39][40] San Francisco anchors the 13th most populous metropolitan statistical area in the United States with 4.6 million residents, and the fourth-largest by aggregate income and economic output, with a GDP of $669 billion in 2021.[41] The wider San Jose–San Francisco–Oakland Combined Statistical Area is the fifth most populous, with 9.5 million residents, and the third-largest by economic output, with a GDP of $1.25 trillion in 2021. In the same year, San Francisco proper had a GDP of $236.4 billion, and a GDP per capita of $289,990.[41] San Francisco was ranked seventh in the world and third in the United States on the Global Financial Centres Index as of March 2022.\",\n",
    "    \"questions\": [\n",
    "        \"How many residents lived in the metropolitican area of San Francisco in 2020?\",\n",
    "        \"Which city had a greater GDP in 2020: Paris or San Francisco?\",\n",
    "        \"How many people live in Paris?\", # expect out of scope\n",
    "        \"What's the capital of California?\", # expect out of scope\n",
    "        \"What's Nick's favorite color?\", # expect out of scope\n",
    "    ],\n",
    "}\n",
    "\n",
    "TextChatBot(test_case[\"input_text\"], test_case[\"questions\"])"
   ]
  },
  {
   "cell_type": "markdown",
   "metadata": {},
   "source": [
    "## Example #2: Stranger Things"
   ]
  },
  {
   "cell_type": "code",
   "execution_count": 2,
   "metadata": {},
   "outputs": [
    {
     "data": {
      "text/plain": [
       "['Stranger Things is an American science fiction horror drama television series.',\n",
       " 'The Duffer Brothers created Stranger Things.',\n",
       " 'The first season of Stranger Things was released on July 15, 2016, the second season in October 2017, the third season in July 2019, and the fourth season in May and July 2022 respectively.',\n",
       " 'According to the text, Stranger Things will run for five seasons.',\n",
       " \"Monkey Massacre Productions and Levy's 21 Laps Entertainment produced the first season of Stranger Things.\",\n",
       " 'out of scope',\n",
       " 'out of scope']"
      ]
     },
     "execution_count": 2,
     "metadata": {},
     "output_type": "execute_result"
    }
   ],
   "source": [
    "test_case = {\n",
    "    \"input_text\": \n",
    "        \"\"\"Stranger Things is an American science fiction horror drama television series created by the Duffer Brothers, who also serve as showrunners and are executive producers along with Shawn Levy and Dan Cohen. Produced by Monkey Massacre Productions and Levy's 21 Laps Entertainment, the first season was released on Netflix on July 15, 2016. Its second, third, and fourth seasons followed in October 2017, July 2019, and May and July 2022, respectively. In February 2022, it was renewed for a fifth and final season.\n",
    "        \n",
    "        Netflix did not initially reveal subscriber viewership numbers for their original series, and Symphony Technology Group compiled data for the season based on people using software on their phones that measures television viewing by detecting a program's sound. According to Symphony, within the first 35 days of release, Stranger Things averaged ratings of around 14.07 million adults between the ages of 18 and 49 in the United States. This made it the third most-watched season of Netflix original content in the U.S. at the time behind the first season of Fuller House and fourth season of Orange Is the New Black.[99] In a September 2016 analysis, Netflix found that Stranger Things \"hooked\" viewers by the second episode of the first season, indicating that the second episode was \"the first installment that led at least 70 percent of viewers who watched that episode to complete the entire first season of a show.\"[100]\n",
    "\n",
    "        For the third season, Netflix revealed that the show had broken viewing records for Netflix, with 40.7 million households having watched the show in its first four days, and 18.2 million already watched the entire series within that timeframe.[101] Within its first month, the third season was watched by 64 million households, setting a new record for the most-watched original Netflix series.[\n",
    "        \"\"\",\n",
    "    \"questions\": [\n",
    "        \"What is Stranger Things?\",\n",
    "        \"Who created Stranger Things?\",\n",
    "        \"On what date was each season of Stranger Things released?\",\n",
    "        \"How many seasons will Stranger Things run for?\",\n",
    "        \"Who producted the first season of Stranger Things?\",\n",
    "        \"Which actors appeared in Stranger Things?\", # expect out of scope\n",
    "        \"How old is Joe Keery?\" # expect out of scope\n",
    "    ],\n",
    "}\n",
    "\n",
    "# note that we can instantiate TextChatBot, then call it like a function\n",
    "bot = TextChatBot()\n",
    "bot(test_case[\"input_text\"], test_case[\"questions\"])"
   ]
  },
  {
   "cell_type": "markdown",
   "metadata": {},
   "source": [
    "## Example #3: Bermuda Triangle"
   ]
  },
  {
   "cell_type": "code",
   "execution_count": 11,
   "metadata": {},
   "outputs": [
    {
     "data": {
      "text/plain": [
       "[\"The Bermuda Triangle, also known as the Devil's Triangle, is a region in the western part of the North Atlantic Ocean where a number of aircraft and ships have disappeared under mysterious circumstances.\",\n",
       " 'out of scope',\n",
       " \"The Bermuda Triangle is also known as the Devil's Triangle.\",\n",
       " 'Most reputable sources dismiss the idea that the Bermuda Triangle is dangerous.',\n",
       " 'out of scope',\n",
       " 'out of scope']"
      ]
     },
     "execution_count": 11,
     "metadata": {},
     "output_type": "execute_result"
    }
   ],
   "source": [
    "test_case = {\n",
    "    \"input_text\": \n",
    "       \"\"\"\n",
    "        The Bermuda Triangle, also known as the Devil's Triangle, is an urban legend focused on a loosely defined region in the western part of the North Atlantic Ocean where a number of aircraft and ships are said to have disappeared under mysterious circumstances. The idea of the area as uniquely prone to disappearances arose in the mid-20th century, but most reputable sources dismiss the idea that there is any mystery.[1][2][3]\n",
    "\n",
    "    The earliest suggestion of unusual disappearances in the Bermuda area appeared in a September 17, 1950, article published in The Miami Herald (Associated Press) by Edward Van Winkle Jones.[4] Two years later, Fate magazine published \"Sea Mystery at Our Back Door\",[5][6] a short article by George Sand covering the loss of several planes and ships, including the loss of Flight 19, a group of five US Navy Grumman TBM Avenger torpedo bombers on a training mission. Sand's article was the first to lay out the now-familiar triangular area where the losses took place, as well as the first to suggest a supernatural element to the Flight 19 incident. Flight 19 alone would be covered again in the April 1962 issue of American Legion magazine.[7] In it, author Allan W. Eckert wrote that the flight leader had been heard saying, \"We are entering white water, nothing seems right. We don't know where we are, the water is green, no white.\" He also wrote that officials at the Navy board of inquiry stated that the planes \"flew off to Mars.\"[8]\n",
    "\"\"\",\n",
    "    \"questions\": [\n",
    "        \"What is the Bermuda triangle?\",\n",
    "        \"What famous pilots have died in the Bermuda Triangle?\", # expect out of scope\n",
    "        \"What other names is the Bermuda Triangle known by?\",\n",
    "        \"Is the Bermuda Triangle really dangerous?\",\n",
    "        \"What's the relationship between the Bermuda Triangle and Jupyter?\", # expect out of scope\n",
    "        \"Who producted the first season of Stranger Things?\", # expect out of scope\n",
    "    ],\n",
    "}\n",
    "\n",
    "TextChatBot(test_case[\"input_text\"], test_case[\"questions\"])"
   ]
  },
  {
   "cell_type": "markdown",
   "metadata": {},
   "source": [
    "## Example #4: Error Cases\n",
    "\n",
    "Note: we expect the examples below to return errors."
   ]
  },
  {
   "cell_type": "markdown",
   "metadata": {},
   "source": [
    "### Incorrect Types"
   ]
  },
  {
   "cell_type": "code",
   "execution_count": 4,
   "metadata": {},
   "outputs": [
    {
     "ename": "AssertionError",
     "evalue": "Input text is of the wrong type; expected str but got int",
     "output_type": "error",
     "traceback": [
      "\u001b[0;31m---------------------------------------------------------------------------\u001b[0m",
      "\u001b[0;31mAssertionError\u001b[0m                            Traceback (most recent call last)",
      "\u001b[0;32m/var/folders/c_/vxjvkhy543l66mrkrtfrb56c0000gn/T/ipykernel_61329/2707038836.py\u001b[0m in \u001b[0;36m<module>\u001b[0;34m\u001b[0m\n\u001b[1;32m     13\u001b[0m }\n\u001b[1;32m     14\u001b[0m \u001b[0;34m\u001b[0m\u001b[0m\n\u001b[0;32m---> 15\u001b[0;31m \u001b[0mTextChatBot\u001b[0m\u001b[0;34m(\u001b[0m\u001b[0mtest_case\u001b[0m\u001b[0;34m[\u001b[0m\u001b[0;34m\"input_text\"\u001b[0m\u001b[0;34m]\u001b[0m\u001b[0;34m,\u001b[0m \u001b[0mtest_case\u001b[0m\u001b[0;34m[\u001b[0m\u001b[0;34m\"questions\"\u001b[0m\u001b[0;34m]\u001b[0m\u001b[0;34m)\u001b[0m\u001b[0;34m\u001b[0m\u001b[0;34m\u001b[0m\u001b[0m\n\u001b[0m",
      "\u001b[0;32m~/git/chatgpt_api_example/textchatbot/textchatbot.py\u001b[0m in \u001b[0;36m__new__\u001b[0;34m(cls, input_text, questions)\u001b[0m\n\u001b[1;32m     20\u001b[0m             \u001b[0;32mreturn\u001b[0m \u001b[0minstance\u001b[0m\u001b[0;34m\u001b[0m\u001b[0;34m\u001b[0m\u001b[0m\n\u001b[1;32m     21\u001b[0m         \u001b[0;32melse\u001b[0m\u001b[0;34m:\u001b[0m\u001b[0;34m\u001b[0m\u001b[0;34m\u001b[0m\u001b[0m\n\u001b[0;32m---> 22\u001b[0;31m             \u001b[0;32mreturn\u001b[0m \u001b[0minstance\u001b[0m\u001b[0;34m(\u001b[0m\u001b[0minput_text\u001b[0m\u001b[0;34m,\u001b[0m \u001b[0mquestions\u001b[0m\u001b[0;34m)\u001b[0m\u001b[0;34m\u001b[0m\u001b[0;34m\u001b[0m\u001b[0m\n\u001b[0m\u001b[1;32m     23\u001b[0m \u001b[0;34m\u001b[0m\u001b[0m\n\u001b[1;32m     24\u001b[0m     \u001b[0;32mdef\u001b[0m \u001b[0m__call__\u001b[0m\u001b[0;34m(\u001b[0m\u001b[0mself\u001b[0m\u001b[0;34m,\u001b[0m \u001b[0minput_text\u001b[0m\u001b[0;34m:\u001b[0m \u001b[0mstr\u001b[0m\u001b[0;34m,\u001b[0m \u001b[0mquestions\u001b[0m\u001b[0;34m:\u001b[0m \u001b[0mList\u001b[0m\u001b[0;34m[\u001b[0m\u001b[0mstr\u001b[0m\u001b[0;34m]\u001b[0m\u001b[0;34m)\u001b[0m \u001b[0;34m->\u001b[0m \u001b[0mList\u001b[0m\u001b[0;34m[\u001b[0m\u001b[0mstr\u001b[0m\u001b[0;34m]\u001b[0m\u001b[0;34m:\u001b[0m\u001b[0;34m\u001b[0m\u001b[0;34m\u001b[0m\u001b[0m\n",
      "\u001b[0;32m~/git/chatgpt_api_example/textchatbot/textchatbot.py\u001b[0m in \u001b[0;36m__call__\u001b[0;34m(self, input_text, questions)\u001b[0m\n\u001b[1;32m     25\u001b[0m         \u001b[0;34m\"\"\"Our main function: return a list of answers to a list of questions about some given input text\"\"\"\u001b[0m\u001b[0;34m\u001b[0m\u001b[0;34m\u001b[0m\u001b[0m\n\u001b[1;32m     26\u001b[0m \u001b[0;34m\u001b[0m\u001b[0m\n\u001b[0;32m---> 27\u001b[0;31m         assert isinstance(\n\u001b[0m\u001b[1;32m     28\u001b[0m             \u001b[0minput_text\u001b[0m\u001b[0;34m,\u001b[0m \u001b[0mstr\u001b[0m\u001b[0;34m\u001b[0m\u001b[0;34m\u001b[0m\u001b[0m\n\u001b[1;32m     29\u001b[0m         ), f\"Input text is of the wrong type; expected str but got {type(input_text).__name__}\"\n",
      "\u001b[0;31mAssertionError\u001b[0m: Input text is of the wrong type; expected str but got int"
     ]
    }
   ],
   "source": [
    "test_case = {\n",
    "    \"input_text\": \n",
    "       4,\n",
    "    \"questions\": [\n",
    "        \"What is Stranger Things?\",\n",
    "        \"Who created Stranger Things?\",\n",
    "        \"On what date was each season of Stranger Things released?\",\n",
    "        \"How many seasons will Stranger Things run for?\",\n",
    "        \"Who producted the first season of Stranger Things?\",\n",
    "        \"Which actors appeared in Stranger Things?\",\n",
    "        \"How old is Joe Keery?\"\n",
    "    ],\n",
    "}\n",
    "\n",
    "TextChatBot(test_case[\"input_text\"], test_case[\"questions\"])"
   ]
  },
  {
   "cell_type": "markdown",
   "metadata": {},
   "source": [
    "### Null Inputs"
   ]
  },
  {
   "cell_type": "code",
   "execution_count": 5,
   "metadata": {},
   "outputs": [
    {
     "ename": "AssertionError",
     "evalue": "You must ask at least one question.",
     "output_type": "error",
     "traceback": [
      "\u001b[0;31m---------------------------------------------------------------------------\u001b[0m",
      "\u001b[0;31mAssertionError\u001b[0m                            Traceback (most recent call last)",
      "\u001b[0;32m/var/folders/c_/vxjvkhy543l66mrkrtfrb56c0000gn/T/ipykernel_61329/3889659513.py\u001b[0m in \u001b[0;36m<module>\u001b[0;34m\u001b[0m\n\u001b[1;32m      5\u001b[0m }\n\u001b[1;32m      6\u001b[0m \u001b[0;34m\u001b[0m\u001b[0m\n\u001b[0;32m----> 7\u001b[0;31m \u001b[0mTextChatBot\u001b[0m\u001b[0;34m(\u001b[0m\u001b[0mtest_case\u001b[0m\u001b[0;34m[\u001b[0m\u001b[0;34m\"input_text\"\u001b[0m\u001b[0;34m]\u001b[0m\u001b[0;34m,\u001b[0m \u001b[0mtest_case\u001b[0m\u001b[0;34m[\u001b[0m\u001b[0;34m\"questions\"\u001b[0m\u001b[0;34m]\u001b[0m\u001b[0;34m)\u001b[0m\u001b[0;34m\u001b[0m\u001b[0;34m\u001b[0m\u001b[0m\n\u001b[0m",
      "\u001b[0;32m~/git/chatgpt_api_example/textchatbot/textchatbot.py\u001b[0m in \u001b[0;36m__new__\u001b[0;34m(cls, input_text, questions)\u001b[0m\n\u001b[1;32m     20\u001b[0m             \u001b[0;32mreturn\u001b[0m \u001b[0minstance\u001b[0m\u001b[0;34m\u001b[0m\u001b[0;34m\u001b[0m\u001b[0m\n\u001b[1;32m     21\u001b[0m         \u001b[0;32melse\u001b[0m\u001b[0;34m:\u001b[0m\u001b[0;34m\u001b[0m\u001b[0;34m\u001b[0m\u001b[0m\n\u001b[0;32m---> 22\u001b[0;31m             \u001b[0;32mreturn\u001b[0m \u001b[0minstance\u001b[0m\u001b[0;34m(\u001b[0m\u001b[0minput_text\u001b[0m\u001b[0;34m,\u001b[0m \u001b[0mquestions\u001b[0m\u001b[0;34m)\u001b[0m\u001b[0;34m\u001b[0m\u001b[0;34m\u001b[0m\u001b[0m\n\u001b[0m\u001b[1;32m     23\u001b[0m \u001b[0;34m\u001b[0m\u001b[0m\n\u001b[1;32m     24\u001b[0m     \u001b[0;32mdef\u001b[0m \u001b[0m__call__\u001b[0m\u001b[0;34m(\u001b[0m\u001b[0mself\u001b[0m\u001b[0;34m,\u001b[0m \u001b[0minput_text\u001b[0m\u001b[0;34m:\u001b[0m \u001b[0mstr\u001b[0m\u001b[0;34m,\u001b[0m \u001b[0mquestions\u001b[0m\u001b[0;34m:\u001b[0m \u001b[0mList\u001b[0m\u001b[0;34m[\u001b[0m\u001b[0mstr\u001b[0m\u001b[0;34m]\u001b[0m\u001b[0;34m)\u001b[0m \u001b[0;34m->\u001b[0m \u001b[0mList\u001b[0m\u001b[0;34m[\u001b[0m\u001b[0mstr\u001b[0m\u001b[0;34m]\u001b[0m\u001b[0;34m:\u001b[0m\u001b[0;34m\u001b[0m\u001b[0;34m\u001b[0m\u001b[0m\n",
      "\u001b[0;32m~/git/chatgpt_api_example/textchatbot/textchatbot.py\u001b[0m in \u001b[0;36m__call__\u001b[0;34m(self, input_text, questions)\u001b[0m\n\u001b[1;32m     35\u001b[0m         ), f\"Question list is of the wrong type; expected list but got {type(questions).__name__}\"\n\u001b[1;32m     36\u001b[0m \u001b[0;34m\u001b[0m\u001b[0m\n\u001b[0;32m---> 37\u001b[0;31m         \u001b[0;32massert\u001b[0m \u001b[0mlen\u001b[0m\u001b[0;34m(\u001b[0m\u001b[0mquestions\u001b[0m\u001b[0;34m)\u001b[0m \u001b[0;34m>\u001b[0m \u001b[0;36m0\u001b[0m\u001b[0;34m,\u001b[0m \u001b[0;34m\"You must ask at least one question.\"\u001b[0m\u001b[0;34m\u001b[0m\u001b[0;34m\u001b[0m\u001b[0m\n\u001b[0m\u001b[1;32m     38\u001b[0m \u001b[0;34m\u001b[0m\u001b[0m\n\u001b[1;32m     39\u001b[0m         \u001b[0mself\u001b[0m\u001b[0;34m.\u001b[0m\u001b[0m_set_openai_api_key\u001b[0m\u001b[0;34m(\u001b[0m\u001b[0;34m)\u001b[0m\u001b[0;34m\u001b[0m\u001b[0;34m\u001b[0m\u001b[0m\n",
      "\u001b[0;31mAssertionError\u001b[0m: You must ask at least one question."
     ]
    }
   ],
   "source": [
    "test_case = {\n",
    "    \"input_text\": \n",
    "       'Some fake input text',\n",
    "    \"questions\": [],\n",
    "}\n",
    "\n",
    "TextChatBot(test_case[\"input_text\"], test_case[\"questions\"])"
   ]
  },
  {
   "cell_type": "markdown",
   "metadata": {},
   "source": [
    "### Long Inputs"
   ]
  },
  {
   "cell_type": "code",
   "execution_count": 8,
   "metadata": {},
   "outputs": [
    {
     "ename": "AssertionError",
     "evalue": "Prompt is too long to process via the GPT API. Try shortening your input_text and/or question",
     "output_type": "error",
     "traceback": [
      "\u001b[0;31m---------------------------------------------------------------------------\u001b[0m",
      "\u001b[0;31mAssertionError\u001b[0m                            Traceback (most recent call last)",
      "\u001b[0;32m/var/folders/c_/vxjvkhy543l66mrkrtfrb56c0000gn/T/ipykernel_61329/2817802399.py\u001b[0m in \u001b[0;36m<module>\u001b[0;34m\u001b[0m\n\u001b[1;32m    163\u001b[0m }\n\u001b[1;32m    164\u001b[0m \u001b[0;34m\u001b[0m\u001b[0m\n\u001b[0;32m--> 165\u001b[0;31m \u001b[0mTextChatBot\u001b[0m\u001b[0;34m(\u001b[0m\u001b[0mtest_case\u001b[0m\u001b[0;34m[\u001b[0m\u001b[0;34m\"input_text\"\u001b[0m\u001b[0;34m]\u001b[0m\u001b[0;34m,\u001b[0m \u001b[0mtest_case\u001b[0m\u001b[0;34m[\u001b[0m\u001b[0;34m\"questions\"\u001b[0m\u001b[0;34m]\u001b[0m\u001b[0;34m)\u001b[0m\u001b[0;34m\u001b[0m\u001b[0;34m\u001b[0m\u001b[0m\n\u001b[0m",
      "\u001b[0;32m~/git/chatgpt_api_example/textchatbot/textchatbot.py\u001b[0m in \u001b[0;36m__new__\u001b[0;34m(cls, input_text, questions)\u001b[0m\n\u001b[1;32m     20\u001b[0m             \u001b[0;32mreturn\u001b[0m \u001b[0minstance\u001b[0m\u001b[0;34m\u001b[0m\u001b[0;34m\u001b[0m\u001b[0m\n\u001b[1;32m     21\u001b[0m         \u001b[0;32melse\u001b[0m\u001b[0;34m:\u001b[0m\u001b[0;34m\u001b[0m\u001b[0;34m\u001b[0m\u001b[0m\n\u001b[0;32m---> 22\u001b[0;31m             \u001b[0;32mreturn\u001b[0m \u001b[0minstance\u001b[0m\u001b[0;34m(\u001b[0m\u001b[0minput_text\u001b[0m\u001b[0;34m,\u001b[0m \u001b[0mquestions\u001b[0m\u001b[0;34m)\u001b[0m\u001b[0;34m\u001b[0m\u001b[0;34m\u001b[0m\u001b[0m\n\u001b[0m\u001b[1;32m     23\u001b[0m \u001b[0;34m\u001b[0m\u001b[0m\n\u001b[1;32m     24\u001b[0m     \u001b[0;32mdef\u001b[0m \u001b[0m__call__\u001b[0m\u001b[0;34m(\u001b[0m\u001b[0mself\u001b[0m\u001b[0;34m,\u001b[0m \u001b[0minput_text\u001b[0m\u001b[0;34m:\u001b[0m \u001b[0mstr\u001b[0m\u001b[0;34m,\u001b[0m \u001b[0mquestions\u001b[0m\u001b[0;34m:\u001b[0m \u001b[0mList\u001b[0m\u001b[0;34m[\u001b[0m\u001b[0mstr\u001b[0m\u001b[0;34m]\u001b[0m\u001b[0;34m)\u001b[0m \u001b[0;34m->\u001b[0m \u001b[0mList\u001b[0m\u001b[0;34m[\u001b[0m\u001b[0mstr\u001b[0m\u001b[0;34m]\u001b[0m\u001b[0;34m:\u001b[0m\u001b[0;34m\u001b[0m\u001b[0;34m\u001b[0m\u001b[0m\n",
      "\u001b[0;32m~/git/chatgpt_api_example/textchatbot/textchatbot.py\u001b[0m in \u001b[0;36m__call__\u001b[0;34m(self, input_text, questions)\u001b[0m\n\u001b[1;32m     41\u001b[0m         \u001b[0moutput\u001b[0m \u001b[0;34m=\u001b[0m \u001b[0;34m[\u001b[0m\u001b[0;34m]\u001b[0m\u001b[0;34m\u001b[0m\u001b[0;34m\u001b[0m\u001b[0m\n\u001b[1;32m     42\u001b[0m         \u001b[0;32mfor\u001b[0m \u001b[0mquestion\u001b[0m \u001b[0;32min\u001b[0m \u001b[0mquestions\u001b[0m\u001b[0;34m:\u001b[0m\u001b[0;34m\u001b[0m\u001b[0;34m\u001b[0m\u001b[0m\n\u001b[0;32m---> 43\u001b[0;31m             \u001b[0mresponse\u001b[0m \u001b[0;34m=\u001b[0m \u001b[0mself\u001b[0m\u001b[0;34m.\u001b[0m\u001b[0m_query_gpt\u001b[0m\u001b[0;34m(\u001b[0m\u001b[0minput_text\u001b[0m\u001b[0;34m,\u001b[0m \u001b[0mquestion\u001b[0m\u001b[0;34m)\u001b[0m\u001b[0;34m\u001b[0m\u001b[0;34m\u001b[0m\u001b[0m\n\u001b[0m\u001b[1;32m     44\u001b[0m             \u001b[0moutput\u001b[0m\u001b[0;34m.\u001b[0m\u001b[0mappend\u001b[0m\u001b[0;34m(\u001b[0m\u001b[0mresponse\u001b[0m\u001b[0;34m)\u001b[0m\u001b[0;34m\u001b[0m\u001b[0;34m\u001b[0m\u001b[0m\n\u001b[1;32m     45\u001b[0m \u001b[0;34m\u001b[0m\u001b[0m\n",
      "\u001b[0;32m~/git/chatgpt_api_example/textchatbot/textchatbot.py\u001b[0m in \u001b[0;36m_query_gpt\u001b[0;34m(self, input_text, question)\u001b[0m\n\u001b[1;32m     68\u001b[0m         )\n\u001b[1;32m     69\u001b[0m \u001b[0;34m\u001b[0m\u001b[0m\n\u001b[0;32m---> 70\u001b[0;31m         assert (\n\u001b[0m\u001b[1;32m     71\u001b[0m             \u001b[0mlen\u001b[0m\u001b[0;34m(\u001b[0m\u001b[0mprompt_template\u001b[0m\u001b[0;34m.\u001b[0m\u001b[0msplit\u001b[0m\u001b[0;34m(\u001b[0m\u001b[0;34m\" \"\u001b[0m\u001b[0;34m)\u001b[0m\u001b[0;34m)\u001b[0m \u001b[0;34m<\u001b[0m \u001b[0;36m2048\u001b[0m\u001b[0;34m\u001b[0m\u001b[0;34m\u001b[0m\u001b[0m\n\u001b[1;32m     72\u001b[0m         ), f\"Prompt is too long to process via the GPT API. Try shortening your input_text and/or question\"\n",
      "\u001b[0;31mAssertionError\u001b[0m: Prompt is too long to process via the GPT API. Try shortening your input_text and/or question"
     ]
    }
   ],
   "source": [
    "test_case = {\n",
    "    \"input_text\": \n",
    "       \"\"\"Stranger Things is an American science fiction horror drama television series created by the Duffer Brothers, who also serve as showrunners and are executive producers along with Shawn Levy and Dan Cohen. Produced by Monkey Massacre Productions and Levy's 21 Laps Entertainment, the first season was released on Netflix on July 15, 2016. Its second, third, and fourth seasons followed in October 2017, July 2019, and May and July 2022, respectively. In February 2022, it was renewed for a fifth and final season.\n",
    "\n",
    "Set in the 1980s, the series centers around the residents of the fictional small town of Hawkins, Indiana, as they are plagued by a hostile alternate dimension known as the Upside Down, after a nearby human experimentation facility opens a gateway between it and the normal world. The ensemble cast includes Winona Ryder, David Harbour, Finn Wolfhard, Millie Bobby Brown, Gaten Matarazzo, Caleb McLaughlin, Natalia Dyer, Charlie Heaton, Cara Buono, Matthew Modine, Noah Schnapp, Sadie Sink, Joe Keery, Dacre Montgomery, Sean Astin, Paul Reiser, Maya Hawke, Priah Ferguson and Brett Gelman.\n",
    "\n",
    "The Duffer Brothers developed Stranger Things as a mix of investigative drama and supernatural elements portrayed with horror and childlike sensibilities, while infusing references to the pop culture of the 1980s. Several thematic and directorial elements were inspired by the works of Steven Spielberg, John Carpenter, David Lynch, Stephen King, Wes Craven and H. P. Lovecraft. They also took inspiration from experiments conducted during the Cold War and conspiracy theories involving secret government programs.\n",
    "\n",
    "One of Netflix's flagship series, Stranger Things has attracted record viewership on the streaming platform. It has been critically acclaimed for its characterization, atmosphere, acting, soundtrack, directing, writing, and homages to 1980s films. It has received numerous nominations and awards. An animated spin-off series, developed by Eric Robles and produced by Flying Bark Productions, is in development.[4]\n",
    "\n",
    "Overview\n",
    "Stranger Things is set in the fictional rural town of Hawkins, Indiana, in the 1980s. The nearby Hawkins National Laboratory ostensibly performs scientific research for the United States Department of Energy but secretly experiments with the paranormal and supernatural, sometimes with human test subjects. They have inadvertently created a portal to an alternate dimension they refer to as the Upside Down, whose presence begins to affect the residents of Hawkins in calamitous ways.[5][6]\n",
    "\n",
    "The first season begins in November 1983. Will Byers is abducted by a creature from the Upside Down. His mother, Joyce; the town's police chief, Jim Hopper; and a group of volunteers search for him. A young psychokinetic girl named Eleven escapes from the laboratory and is found by friends of Will. Eleven befriends and assists them in their efforts to find Will.[7]\n",
    "\n",
    "The second season is set a year later in October 1984. Will has been rescued, but he begins having premonitions of the fall of Hawkins caused by a creature in the Upside Down. When it is discovered that Will is still being possessed by an entity from the Upside Down, his friends and family learn that there is a larger threat to their world.[8]\n",
    "\n",
    "The third season is set several months later, in the days leading up to the Fourth of July celebration in 1985. The new Starcourt Mall has become the center of attention for Hawkins residents, putting the majority of other local stores out of business due to the mall's popularity. Hopper becomes increasingly concerned about Eleven and Mike's relationship and becomes very protective of his daughter. Unbeknownst to the town, a secret Soviet laboratory underneath Starcourt seeks to open the gateway to the Upside Down. Meanwhile, the Mind Flayer uses mind control to make Billy do his bidding.[9][10]\n",
    "\n",
    "The fourth season is set several months later, in March 1986. Joyce, Will, Eleven, and Jonathan have moved to Lenora, California for a fresh start. In California, Eleven struggles with the loss of her powers and being bullied in school. Meanwhile, in Hawkins, a being from the Upside Down—an entity later dubbed Vecna—begins killing the residents of Hawkins, opening new gates between the two worlds in the process. Planning to stop Vecna, Dr. Sam Owens takes Eleven to a facility to help her regain her powers. Simultaneously, Joyce and Murray fly to Russia to rescue Hopper from the Gulag in Kamchatka.\n",
    "\n",
    "Cast and characters\n",
    "Main article: List of Stranger Things characters\n",
    "\n",
    "The Duffer Brothers, Shawn Levy and the main cast of season 2 of Stranger Things at the 2017 San Diego Comic-Con International\n",
    "Winona Ryder as Joyce Byers,[11] the mother of Will and Jonathan Byers. She is divorced from Lonnie Byers, the father of Will and Jonathan. In season two, she dates her old high school classmate, Bob, until his death later in the season. She and Hopper have feelings for each other.\n",
    "David Harbour as Jim Hopper,[11] chief of Hawkins Police Department. After his young daughter Sara died of cancer, Hopper divorced and lapsed into alcoholism. Eventually he grows to be more responsible, saving Will Byers after he is taken in season 1, as well as taking Eleven as his adopted daughter. He and Joyce have feelings for each other.\n",
    "Finn Wolfhard as Mike Wheeler,[12] middle child of Karen and Ted Wheeler, brother of Nancy and Holly, and one of three friends of Will Byers. He is an intelligent and conscientious student and is committed to his friends. He develops romantic feelings for Eleven and later dates her.\n",
    "Millie Bobby Brown as Eleven / Jane Hopper (\"El\"),[12] a teen girl with telepathic and psychokinetic abilities, a result of being one of Dr. Brenner's subjects from Hawkins National Laboratory. She escapes the lab and eventually becomes an adoptive daughter to Jim Hopper taking his surname, and adjusts to living a normal life with the help of Mike (whom she later dates) and his friends.\n",
    "Gaten Matarazzo as Dustin Henderson,[12] one of Will Byers' friends. His cleidocranial dysplasia causes him to lisp. In the second season, he is proud of his new front teeth and is attracted to Max. In season 3, he gets a girlfriend, Suzie (portrayed by Gabriella Pizzolo), whom he met at Camp Know Where prior to the start of the season.\n",
    "Caleb McLaughlin as Lucas Sinclair,[12] one of Will's friends. He is wary of Eleven but later befriends her. In season two, he is one of Max's love interests and eventually becomes her boyfriend in season three. He becomes more popular in season 4 as a result of joining the Hawkins High basketball team, which briefly puts him at odds with his regular friend group.\n",
    "Natalia Dyer as Nancy Wheeler,[12] daughter of Karen and Ted and older sister of Mike and Holly. Studious and rule-abiding, Nancy finds another side of herself while investigating the Hawkins Lab and the death of her friend Barbara. In the first two seasons, she is the girlfriend of Steve Harrington but breaks up with him and then dates Jonathan Byers. She is an aspiring journalist.\n",
    "Charlie Heaton as Jonathan Byers,[12] the older brother of Will Byers and the son of Joyce Byers. He is a quiet and kind-hearted teenager, an outsider at school, and an aspiring photographer. He is close with his mother and brother, and he becomes the boyfriend of Nancy Wheeler.\n",
    "Cara Buono as Karen Wheeler (seasons 1–3; also starring: season 4),[13] mother of Nancy, Mike, and toddler Holly. Karen has a brief fling with Billy in season 3.\n",
    "Matthew Modine as Martin Brenner (seasons 1 and 4; recurring: season 2),[14] the scientist in charge of Hawkins Laboratory and training Eleven. Manipulative and remote, he and his team are searching for Eleven in season 1 after she escapes. He is referred to as \"Papa\" by Eleven. In season 4, he returns to help Eleven gain her powers back and protects her from the government agents hunting her down.[15]\n",
    "Noah Schnapp as Will Byers (season 2–present; recurring: season 1),[12] the son of Joyce Byers and younger brother of Jonathan Byers. He is captured by a monster from the \"Upside Down\", an alternate dimension discovered by Hawkins Laboratory scientists in season 1. He later develops a connection to the upside down and the Mind Flayer due to his capture.[16][17]\n",
    "Sadie Sink as Max Mayfield (season 2–present), Billy's younger stepsister, and a tomboy who catches the attention of both Lucas and Dustin, eventually dating Lucas. In season 4, she is one of the teens that is targeted by Vecna.[17]\n",
    "Joe Keery as Steve Harrington (season 2–present; recurring: season 1), a popular high school student and the boyfriend of Nancy Wheeler. He ostracizes Jonathan Byers but later comes to befriend him. He and Nancy later break up in season two but remain friends. He is known as the \"babysitter\" of the group since he is often left to look after the kids.[18][17]\n",
    "Dacre Montgomery as Billy Hargrove (seasons 2–3; guest: season 4), Max's violent, unpredictable, and abusive older stepbrother. He challenges Steve's popularity. In season 3, he is controlled by the Mind Flayer and later sacrifices himself to protect the kids.[17]\n",
    "Sean Astin as Bob Newby (season 2; guest: season 3), a former schoolmate of Joyce and Hopper who runs the Hawkins RadioShack[19] and is Joyce's boyfriend, putting him at odds with Hopper. He dies at the end of season 2 after being attacked by Demodogs.[20]\n",
    "Paul Reiser as Sam Owens (seasons 2 and 4; guest: season 3), a Department of Energy executive who replaces Brenner as director of Hawkins Laboratory. He is stubborn and committed to scientific research, yet empathetic to the residents of Hawkins and helps Hopper adopt Eleven as his legal daughter. He returns with Brenner in season 4 to help Eleven gain back her powers and protects her from the government agents hunting her.[19]\n",
    "Maya Hawke as Robin Buckley (season 3–present), a girl who works alongside Steve at the ice cream store in the mall who later comes out as a lesbian. She and Steve Harrington are close friends, having worked together at the Scoops Ahoy ice cream shop and later the video store.[21]\n",
    "Priah Ferguson as Erica Sinclair (season 3–present; recurring: season 2), Lucas's 10-year-old sister who helps the group. She is revealed to be very smart and have avid interest in D&D.[21]\n",
    "Brett Gelman as Murray Bauman (season 4; recurring: seasons 2–3), a conspiracy theorist, private investigator, and longtime friend of Hopper's who helps Nancy and Jonathan in season 2 and Hopper and Joyce in seasons 3 and 4.\n",
    "Jamie Campbell Bower as Henry Creel / One / Vecna (season 4), a murderous psychic being from the Upside Down revealed to have created the Mind Flayer. He was born as a human named Henry Creel with psionic abilities. After murdering his family and falling into a coma, he was put under the care of Dr. Brenner. Flashbacks in season 4 reveal he was sent to the Upside Down by Eleven when she was nine years old, where he was disfigured by lightning, causing his appearance as Vecna. After exploring the Upside Down, he created the Mind Flayer and took control of the dimension.[22]\n",
    "Episodes\n",
    "Main article: List of Stranger Things episodes\n",
    "Season\tEpisodes\tOriginally released\n",
    "1\n",
    "8\tJuly 15, 2016\n",
    "2\n",
    "9\tOctober 27, 2017\n",
    "3\n",
    "8\tJuly 4, 2019\n",
    "4\n",
    "9\t7\tMay 27, 2022\n",
    "2\tJuly 1, 2022\n",
    "5\n",
    "8[23]\tTBA\n",
    "Production\n",
    "Development\n",
    "\n",
    "\n",
    "Ross (left) and Matt Duffer, the creators and showrunners of the series\n",
    "Stranger Things was created by Matt and Ross Duffer, known professionally as the Duffer Brothers,[24] who also serve as showrunners and head writers and direct many of the episodes. They wrote and produced their 2015 film Hidden, in which they emulated the style of M. Night Shyamalan. However, due to changes at Warner Bros., its distributor, it did not see wide release and the Duffers were unsure of their future.[25] To their surprise, television producer Donald De Line approached them, impressed with Hidden's script, and offered them the opportunity to work on episodes of Wayward Pines with Shyamalan. The brothers were mentored by Shyamalan during the episode's production so that when they finished, they felt they were ready to produce their own television series.[26]\n",
    "\n",
    "The Duffers prepared a script[when?] similar to the series' eventual pilot episode, along with a 20-page pitch book to help shop the series to networks.[27] They pitched the story to about 15[28] cable networks, all of whom felt a plot with children as leading characters wouldn't work, and asked the brothers to either make it a children's series or drop the children and focus on Hopper's investigation into the paranormal.[26]\n",
    "\n",
    "In early 2015, Dan Cohen, the VP of 21 Laps Entertainment, brought the script to his colleague Shawn Levy. They subsequently invited the Duffer Brothers to their office and purchased the rights for the series, giving the brothers full authorship. After reading the pilot, the streaming service Netflix purchased the whole season for an undisclosed sum,[29] and in April of the same year, the series was announced for a 2016 release.[30]\n",
    "\n",
    "The Duffer Brothers stated that at the time they pitched to Netflix the company had already been recognized for its original programming in shows such as House of Cards and Orange Is the New Black, with well-recognized producers behind them, and were ready to start giving upcoming producers like them a chance.[27] The brothers started casting and brought Levy and Cohen in as the other executive producers to discuss storylines, with Levy also directing for the show.[31]\n",
    "\n",
    "Montauk is an eight-hour sci-fi horror epic. Set in Long Island in 1980 and inspired by the supernatural classics of that era, we explore the crossroads where the ordinary meet the extraordinary...emotional, cinematic and rooted in character, Montauk is a love letter to the golden age of Steven Spielberg and Stephen King – a marriage of human drama and supernatural fear.\n",
    "\n",
    " — The Duffer Brothers' original pitch for Montauk[32]\n",
    "\n",
    "The book cover the Duffer Brothers created to pitch Montauk. For this, they took inspiration from Stephen King book covers such as Firestarter.\n",
    "The series was originally known as Montauk. The setting was then Montauk, New York, and nearby Long Island locations. Montauk figured into a number of real world conspiracy theories involving secret government experiments.[30][33] The brothers had chosen Montauk as it had further Spielberg ties with the film Jaws, where Montauk was used for the fictional setting of Amity Island.[34] After deciding to change the narrative of the series to take place in the fictional town of Hawkins instead, the brothers felt they could now do things to the town, such as placing it under quarantine, that they really could not envision with a real location.[34]\n",
    "\n",
    "With the change in location, they had to come up with a new title for the series under direction from Netflix's Ted Sarandos so that they could start marketing it to the public. The brothers started by using a copy of Stephen King's Firestarter novel to consider the title's font and appearance, and came up with a long list of potential alternatives. Stranger Things came about as it sounded similar to another King novel, Needful Things, though Matt noted they still had a \"lot of heated arguments\" over this final title.[35]\n",
    "\n",
    "To pitch the series, the Duffer Brothers showcased images, footage and music from classic 1970s and 1980s films such as E.T. the Extra-Terrestrial, Close Encounters of the Third Kind, Poltergeist, Hellraiser, Stand by Me, Firestarter, A Nightmare on Elm Street and Jaws, in order to establish the tone of the series.[32]\n",
    "\n",
    "Writing\n",
    "The idea of Stranger Things started with how the brothers felt they could take the concept of the 2013 film Prisoners, detailing the moral struggles a father goes through when his daughter is kidnapped, and expand it out over eight or so hours in a serialized television approach. As they focused on the missing child aspect of the story, they wanted to introduce the idea of \"childlike sensibilities\" they could offer, and toyed around with the idea of a monster that could consume humans. The brothers thought the combination of these things \"was the best thing ever\".[26]\n",
    "\n",
    "To introduce this monster into the narrative, they considered \"bizarre experiments we had read about taking place in the Cold War\" such as Project MKUltra, which gave a way to ground the monster's existence in science rather than something spiritual. This also helped them to decide on using 1983 as the time period, as it was a year before the film Red Dawn came out, which focused on Cold War paranoia.[26] Subsequently, they were able to use all their own personal inspirations from the 1980s, the decade they were born, as elements of the series,[26][36] crafting it in the realm of science fiction and horror.[37]\n",
    "\n",
    "Other influences cited by the Duffer Brothers include: Stephen King novels; films produced by Steven Spielberg, John Carpenter, David Lynch, Wes Craven,[38][39][40][41] and Guillermo del Toro;[35] films such as Star Wars, Alien, and Stand by Me;[35][39][42] Japanese anime such as Akira and Elfen Lied;[35][38] and several video games including Silent Hill, Dark Souls and The Last of Us.[43][44][38] The Duffer Brothers believe that they may have brought influences from other works unintentionally, including Beyond the Black Rainbow and D.A.R.Y.L., discovered by reviewing fan feedback on the series.[34] Several websites and publications have found other pop culture references in the series, particularly references to 1980s pop culture.[45][46][47][48] The main villain for the last seaons was inspired by the villains that scared the brothers when they watched the movies and miniseries as children: Freddy Krueger, Pinhead and Pennywise.[49]\n",
    "\n",
    "With Netflix as the platform, the Duffer Brothers were not limited to a typical 22-episode format, opting for the eight-episode approach. They had been concerned that a 22-episode season on broadcast television would be difficult to \"tell a cinematic story\" with that many episodes. Eight episodes allowed them to give time to characterization in addition to narrative development; if they had less time available, they would have had to remain committed to telling a horror film as soon as the monster was introduced and abandon the characterization.[27] Within the eight episodes, the brothers aimed to make the first season \"feel like a big movie\" with all the major plot lines completed so that \"the audience feels satisfied\", but left enough unresolved to indicate \"there's a bigger mythology, and there's a lot of dangling threads at the end\", something that could be explored in further seasons if Netflix opted to create more.[50]\n",
    "\n",
    "Regarding writing for the children characters of the series, the Duffer Brothers considered themselves as outcasts from other students while in high school and thus found it easy to write for Mike and his friends, and particularly for Barb.[35] Joyce was fashioned after Richard Dreyfuss' character Roy Neary in Close Encounters of the Third Kind, as she appears \"absolutely bonkers\" to everyone else as she tries to find Will.[51]\n",
    "\n",
    "Casting\n",
    "\n",
    "The Duffer Brothers cast David Harbour as Chief Hopper believing this was his opportunity to portray a lead character.\n",
    "In June 2015, it was announced that Winona Ryder and David Harbour had joined the series as Joyce and as the unnamed chief of police, respectively.[11] The brothers' casting director Carmen Cuba had suggested Ryder for the role of Joyce, which the two were immediately drawn to because of her predominance in the films of the 1980s.[26] Levy believed Ryder could \"wretch up the emotional urgency and yet find layers and nuance and different sides of [Joyce]\". Ryder praised that the show's multiple storylines required her to act for Joyce as if \"she's out of her mind, but she's actually kind of onto something\", and that the producers had faith she could pull off the difficult role.[52] The Duffer Brothers had been interested in Harbour before, who until Stranger Things primarily had smaller roles as villainous characters, and they felt that he had been \"waiting too long for this opportunity\" to play a lead, while Harbour himself was thrilled by the script and the chance to play \"a broken, flawed, anti-hero character\".[35][53]\n",
    "\n",
    "Additional casting followed two months later with Finn Wolfhard as Mike, Millie Bobby Brown in an undisclosed role, Gaten Matarazzo as Dustin, Caleb McLaughlin as Lucas, Natalia Dyer as Nancy, and Charlie Heaton as Jonathan.[12] In September 2015, Cara Buono joined the cast as Karen,[13] followed by Matthew Modine as Martin Brenner a month later.[14] Additional cast who recur include Noah Schnapp as Will,[12][17] Shannon Purser as Barbara \"Barb\" Holland,[54] Joe Keery as Steve Harrington,[18][17] and Ross Partridge as Lonnie,[55] among others.\n",
    "\n",
    "Actors auditioning for the children roles read lines from Stand by Me.[26] The Duffer Brothers estimated they went through about a thousand different child actors for the roles. They noted that Wolfhard was already \"a movie buff\" of the films from the 1980s period and easily filled the role, while they found Matarazzo's audition to be much more authentic than most of the other audition tapes, and selected him after a single viewing of his audition tape.[27]\n",
    "\n",
    "As casting was started immediately after Netflix greenlit the show, and prior to the scripts being fully completed, this allowed some of the actors' takes on the roles to reflect into the script. The casting of the young actors for Will and his friends had been done just after the first script was completed, and subsequent scripts incorporated aspects from these actors.[50] The brothers said Modine provided significant input on the character of Dr. Brenner, whom they had not really fleshed out before as they considered him the hardest character to write for given his limited appearances within the narrative.[51]\n",
    "\n",
    "Filming\n",
    "\n",
    "Emory University's former Georgia Mental Health Institute served as the location of Hawkins National Laboratory.\n",
    "The brothers had desired to film the series around the Long Island area to match the initial Montauk concept. However, with filming scheduled to take place in November 2015, it was difficult to shoot in Long Island in the cold weather, and the production started scouting locations in and around the Atlanta, Georgia, area. The brothers, who grew up in North Carolina, found many places that reminded them of their own childhoods in that area, and felt the area would work well with the narrative shift to the fictional town of Hawkins, Indiana.[34]\n",
    "\n",
    "The filming of the first season began in November 2015 and was extensively done in Atlanta, Georgia, with the Duffer Brothers and Levy handling the direction of individual episodes.[56] Jackson served as the basis of the fictional town of Hawkins, Indiana.[57][58] Other shooting locations included the Georgia Mental Health Institute as the Hawkins National Laboratory site, Bellwood Quarry, and Patrick Henry High School in Stockbridge, Georgia, for the middle and high school scenes.[59]\n",
    "\n",
    "Emory University's Continuing Education Department, the former city hall in Douglasville, Georgia, the Georgia International Horse Park in Conyers, Georgia, the probate court in Butts County, Georgia, Old East Point Library and East Point First Baptist Church in East Point, Georgia, Fayetteville, Georgia, Stone Mountain Park, Palmetto, Georgia, and Winston, Georgia.[60][clarification needed] Set work was done at Screen Gem Studios in Atlanta[60] and the series was filmed with a RED Dragon camera.[51] Filming for the first season concluded in early 2016.[57]\n",
    "\n",
    "After the third season finished filming, producers considered the idea of keeping the Starcourt Mall set as a permanent attraction for fans to visit, but ultimately decided against it.[61]\n",
    "\n",
    "The fourth season of Stranger Things was expected to consist of eight episodes, with the first episode titled \"Chapter One: The Hellfire Club\".[62] Filming for the season was slated to begin in January 2020 and to last through August.[63] With the release of a February 2020 teaser for the fourth season, the Duffers confirmed that production had started.[64] Some filming for the fourth season took place at Lukiškės Prison and nearby in Vilnius, Lithuania.[65] In March 2020, production was stopped due to the COVID-19 pandemic.[66] Production resumed in September 2020.[67]\n",
    "\n",
    "Filming of the fifth season of Stranger Things was expected to start filming in June 2023, according to David Harbour.[68] The Duffer Brothers stated over Twitter that the 2023 Writers Guild of America strike has delayed filming for the fifth and final season.[69]\n",
    "\n",
    "Visual effects\n",
    "To create the aged effect for the series, a film grain was added over the footage, which was captured by scanning in film stock from the 1980s.[51] The Duffer Brothers wanted to scare the audience, but not to necessarily make the series violent or gory, following in line with how the 1980s Amblin Entertainment films drove the creation of the PG-13 movie rating. They said such films were \"much more about mood and atmosphere and suspense and dread than they are about gore\", though they were not afraid to push into more scary elements, particularly towards the end of the first season.[51]\n",
    "\n",
    "The brothers had wanted to avoid any computer-generated effects for the monster and other parts of the series and stay with practical effects, so they created an animatronic to play the part of the Demogorgon.[70][71] However, the six-month filming time left them little time to plan out and test practical effects rigs for some of the shots. They went with a middle ground of using constructed props including one for the monster whenever they could, but for other shots, such as when the monster bursts through a wall, they opted to use digital effects. Post-production on the first season was completed the week before it was released to Netflix.[26]\n",
    "\n",
    "The title sequence uses closeups of the letters in the Stranger Things title with a red tint against a black background as they slide into place within the title. The sequence was created by the studio Imaginary Forces, formerly part of R/GA, led by creative director Michelle Doughtey.[72] Levy introduced the studio to the Duffer Brothers, who explained their vision of the 1980s-inspired series, which helped the studio to fix the concept the producers wanted. Later, but prior to filming, the producers sent Imaginary Forces the pilot script, the synth-heavy background music for the titles, as well as the various book covers from King and other authors that they had used to establish the title and imagery, and were looking for a similar approach for the series' titles, primarily using a typographical sequence.[73]\n",
    "\n",
    "They took inspiration from several title sequences of works from the 1980s that were previously designed by Richard Greenberg under R/GA, such as Altered States and The Dead Zone. They also got input from Dan Perri, who worked on the title credits of several 1980s films. Various iterations included having letters vanish, to reflect the \"missing\" theme of the series, and having letters cast shadows on others, alluding to the mysteries, before settling into the sliding letters. The studio began working on the title sequence before filming, and took about a month off during the filming process to let the producers get immersed in the series and come back with more input.[74]\n",
    "\n",
    "Initially they had been working with various fonts for the title and used close-ups of the best features of these fonts, but near the end the producers wanted to work with ITC Benguiat, requiring them to rework those shots. The final sequence is fully computer generated, but they took inspiration from testing some practical effects, such as using Kodalith masks as would have been done in the 1980s, to develop the appropriate filters for the rendering software. The individual episode title cards used a \"fly through\" approach, similar to the film Bullitt, which the producers had suggested to the studio.[75]\n",
    "\n",
    "Music\n",
    "Main article: Music of Stranger Things\n",
    "Michael Stein and Kyle Dixon of the electronic band Survive have composed the original soundtrack for the show, including the show's theme song.[76] It makes extensive use of synthesizers in homage to 1980s artists and film composers including Jean-Michel Jarre, Tangerine Dream, Vangelis, Goblin, John Carpenter, Giorgio Moroder, and Fabio Frizzi.[77] According to Stein and Dixon, the Duffer Brothers had been fans of Survive's music since the 2014 film The Guest.[76][78][79] Once the series was green-lit, the Duffer Brothers contacted Survive around July 2015 to ask if they were still doing music; the two provided the production team with dozens of songs from their band's past to gain their interest, helping to land them the role.[76]\n",
    "\n",
    "In addition to original music, Stranger Things features period music from artists including Joy Division, Toto, New Order, the Bangles, Foreigner, Echo and the Bunnymen, Peter Gabriel, and Corey Hart, as well as excerpts from Tangerine Dream, John Carpenter, and Vangelis.[80][81] Some songs have been used as narrative elements, such as The Clash's \"Should I Stay or Should I Go\" within the first season,[81] and Kate Bush's \"Running Up That Hill\" in the fourth. Some of these licensed songs saw subsequent resurgence on sales charts after the respective seasons of Stranger Things aired, notably \"Running Up That Hill\" and Metallica's \"Master of Puppets\" from the fourth season, and Limahl's \"The NeverEnding Story\" from the third season.[82][83][84]\n",
    "\n",
    "Soundtracks containing separately the original compositions and the licensed music for each season have been released by Lakeshore Records.\n",
    "\n",
    "Release\n",
    "The first season consisted of eight one-hour-long episodes which were released worldwide on Netflix on July 15, 2016,[85] in Ultra HD 4K. The second season, consisting of nine episodes, was released on October 27, 2017, in HDR.[86][87] The third season once again consists of eight episodes,[88] and was released on July 4, 2019.[89] The fourth season, consisting of nine episodes, was released in two volumes on May 27 and July 1, 2022, respectively.[90][91][92] In February 2022, Netflix renewed the series for a fifth and final season.[93]\n",
    "\n",
    "Shortly after the fourth season's release, viewers reported that Will's friends did not acknowledge his birthday in an episode of the season that took place on that day. The Duffers said in an interview that they could rectify the matter by changing its month, which they called \"George Lucas-ing the situation\", in reference to the canon changes that George Lucas had made to the original Star Wars trilogy to match what the prequel trilogy had added.[94] Some viewers took this to imply that scenes from earlier seasons were also being edited, including one scene where Jonathan takes discreet pictures of a pool party that Steve, Nancy, and Barbara are holding. The writers stated that \"no scenes from previous seasons have ever been cut or re-edited\", including this scene.[94]\n",
    "\n",
    "Home media\n",
    "The first season of Stranger Things was released on a Blu-ray/DVD combo pack exclusively to Target retailers on October 17, 2017, and the same for the 4K/Blu-ray combo pack on November 15, 2017, both of which includes vintage CBS-FOX VHS-inspired packaging.[95][96] The second season received a similar release on November 6, 2018.[97][98]\n",
    "\n",
    "Reception\n",
    "\n",
    "\n",
    "Winona Ryder (left) was nominated for Golden Globe Award, Satellite Award and Screen Actors Guild Award, while Millie Bobby Brown (right) was nominated for two Screen Actors Guild Awards in the same category and two Primetime Emmy Awards.\n",
    "Audience viewership\n",
    "Netflix did not initially reveal subscriber viewership numbers for their original series, and Symphony Technology Group compiled data for the season based on people using software on their phones that measures television viewing by detecting a program's sound. According to Symphony, within the first 35 days of release, Stranger Things averaged ratings of around 14.07 million adults between the ages of 18 and 49 in the United States. This made it the third most-watched season of Netflix original content in the U.S. at the time behind the first season of Fuller House and fourth season of Orange Is the New Black.[99] In a September 2016 analysis, Netflix found that Stranger Things \"hooked\" viewers by the second episode of the first season, indicating that the second episode was \"the first installment that led at least 70 percent of viewers who watched that episode to complete the entire first season of a show.\"[100]\n",
    "\n",
    "For the third season, Netflix revealed that the show had broken viewing records for Netflix, with 40.7 million households having watched the show in its first four days, and 18.2 million already watched the entire series within that timeframe.[101] Within its first month, the third season was watched by 64 million households, setting a new record for the most-watched original Netflix series.[102][103]\n",
    "\n",
    "The series is the most followed TV show on social media app TV Time's history, with over 5 million followers.[104]\n",
    "\n",
    "In April 2023, Dark Horse Comics and IDW Publishing announced another crossover miniseries, this time combining Teenage Mutant Ninja Turtles and Stranger Things.[178]\"\"\",\n",
    "    \"questions\": [\n",
    "        \"A fake question?\",\n",
    "    ],\n",
    "}\n",
    "\n",
    "TextChatBot(test_case[\"input_text\"], test_case[\"questions\"])"
   ]
  },
  {
   "cell_type": "code",
   "execution_count": null,
   "metadata": {},
   "outputs": [],
   "source": []
  }
 ],
 "metadata": {
  "kernelspec": {
   "display_name": "base",
   "language": "python",
   "name": "python3"
  },
  "language_info": {
   "codemirror_mode": {
    "name": "ipython",
    "version": 3
   },
   "file_extension": ".py",
   "mimetype": "text/x-python",
   "name": "python",
   "nbconvert_exporter": "python",
   "pygments_lexer": "ipython3",
   "version": "3.9.7"
  },
  "orig_nbformat": 4
 },
 "nbformat": 4,
 "nbformat_minor": 2
}
